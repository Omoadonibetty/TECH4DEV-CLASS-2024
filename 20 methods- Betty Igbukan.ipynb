{
 "cells": [
  {
   "cell_type": "code",
   "execution_count": 2,
   "id": "94927d7e",
   "metadata": {},
   "outputs": [
    {
     "name": "stdout",
     "output_type": "stream",
     "text": [
      "[2, 4, 8, 12]\n"
     ]
    }
   ],
   "source": [
    "#1.Append\n",
    "my_list = [2, 4, 8]\n",
    "my_list.append(12)\n",
    "print(my_list)\n"
   ]
  },
  {
   "cell_type": "code",
   "execution_count": 3,
   "id": "abf6946a",
   "metadata": {},
   "outputs": [
    {
     "name": "stdout",
     "output_type": "stream",
     "text": [
      "[2, 4, 8, 12, 16, 18]\n"
     ]
    }
   ],
   "source": [
    "#2.Extend\n",
    "list1 = [2, 4, 8]\n",
    "list2 = [12, 16, 18]\n",
    "list1.extend(list2)\n",
    "print(list1)"
   ]
  },
  {
   "cell_type": "code",
   "execution_count": 4,
   "id": "b6d206ae",
   "metadata": {},
   "outputs": [
    {
     "name": "stdout",
     "output_type": "stream",
     "text": [
      "[2, 4, 12]\n"
     ]
    }
   ],
   "source": [
    "#3.Remove\n",
    "my_list = [2, 4, 8, 12]\n",
    "my_list.remove(8)\n",
    "print(my_list)"
   ]
  },
  {
   "cell_type": "code",
   "execution_count": 7,
   "id": "d1581fef",
   "metadata": {},
   "outputs": [
    {
     "name": "stdout",
     "output_type": "stream",
     "text": [
      "[1, 1, 2, 2, 3, 4, 5, 5, 6, 7, 9, 9]\n"
     ]
    }
   ],
   "source": [
    "#4.Sort\n",
    "my_list = [2, 1, 4, 1, 5, 9, 2, 7, 6, 5, 9, 3]\n",
    "my_list.sort()\n",
    "print(my_list)"
   ]
  },
  {
   "cell_type": "code",
   "execution_count": 8,
   "id": "d2e033e0",
   "metadata": {},
   "outputs": [
    {
     "name": "stdout",
     "output_type": "stream",
     "text": [
      "[49, 38, 26, 11]\n"
     ]
    }
   ],
   "source": [
    "#5.Reverse\n",
    "my_list = [11, 26, 38, 49]\n",
    "my_list.reverse()\n",
    "print(my_list)"
   ]
  },
  {
   "cell_type": "code",
   "execution_count": 10,
   "id": "cbee10b6",
   "metadata": {},
   "outputs": [
    {
     "name": "stdout",
     "output_type": "stream",
     "text": [
      "10 97\n"
     ]
    }
   ],
   "source": [
    "#6.min() and max()\n",
    "my_list = [32, 10, 40, 15, 51, 97, 20]\n",
    "min_value = min(my_list)\n",
    "max_value = max(my_list)\n",
    "print(min_value, max_value)  "
   ]
  },
  {
   "cell_type": "code",
   "execution_count": 11,
   "id": "c14eaf52",
   "metadata": {},
   "outputs": [
    {
     "name": "stdout",
     "output_type": "stream",
     "text": [
      "6\n"
     ]
    }
   ],
   "source": [
    "#7.len():\n",
    "my_tuple = (5, 6, 7, 8, 9, 10)\n",
    "length = len(my_tuple)\n",
    "print(length)"
   ]
  },
  {
   "cell_type": "code",
   "execution_count": 12,
   "id": "a7d99cde",
   "metadata": {},
   "outputs": [
    {
     "name": "stdout",
     "output_type": "stream",
     "text": [
      "10125\n"
     ]
    }
   ],
   "source": [
    "#8.sum():\n",
    "my_tuple = (10, 25, 87, 10003)\n",
    "sum_values = sum(my_tuple)\n",
    "print(sum_values)  "
   ]
  },
  {
   "cell_type": "code",
   "execution_count": 15,
   "id": "d2f63f39",
   "metadata": {},
   "outputs": [
    {
     "name": "stdout",
     "output_type": "stream",
     "text": [
      "0 apple\n",
      "1 grape\n",
      "2 banana\n",
      "3 watermelon\n",
      "4 orange\n"
     ]
    }
   ],
   "source": [
    "#9. enumerate():\n",
    "my_tuple = ('apple', 'grape', 'banana', 'watermelon', 'orange')\n",
    "for index, value in enumerate(my_tuple):\n",
    "    print(index, value)\n"
   ]
  },
  {
   "cell_type": "code",
   "execution_count": 16,
   "id": "fad41fa6",
   "metadata": {},
   "outputs": [
    {
     "name": "stdout",
     "output_type": "stream",
     "text": [
      "(1, 9, 16, 26, 80, 1, 9, 16, 26, 80, 1, 9, 16, 26, 80, 1, 9, 16, 26, 80)\n"
     ]
    }
   ],
   "source": [
    "#10. repetition:\n",
    "my_tuple = (1, 9, 16, 26, 80)\n",
    "repeated_tuple = my_tuple * 4\n",
    "print(repeated_tuple) "
   ]
  },
  {
   "cell_type": "code",
   "execution_count": 17,
   "id": "acab5143",
   "metadata": {},
   "outputs": [
    {
     "name": "stdout",
     "output_type": "stream",
     "text": [
      "(4, 5, 6, 7)\n"
     ]
    }
   ],
   "source": [
    "#11. slice():\n",
    "my_tuple = (1, 2, 3, 4, 5, 6, 7, 8, 9, 10)\n",
    "sliced_tuple = my_tuple[3:7]\n",
    "print(sliced_tuple)"
   ]
  },
  {
   "cell_type": "code",
   "execution_count": 19,
   "id": "b0d2ec14",
   "metadata": {},
   "outputs": [
    {
     "name": "stdout",
     "output_type": "stream",
     "text": [
      "set()\n"
     ]
    }
   ],
   "source": [
    "#12. clear():\n",
    "my_dict = {1,  2, 3, 4, 5, 6, 7, 8, 9, 10}\n",
    "my_dict.clear()\n",
    "print(my_dict)  "
   ]
  },
  {
   "cell_type": "code",
   "execution_count": 21,
   "id": "94d130ef",
   "metadata": {},
   "outputs": [
    {
     "name": "stdout",
     "output_type": "stream",
     "text": [
      "{'a': 1, 'b': 2, 'c': 3, 'd': 4, 'e': 5, 'f': 6, 'g': 7, 'h': 8}\n"
     ]
    }
   ],
   "source": [
    "#13. dict() constructor:\n",
    "my_dict = dict(a=1, b=2, c=3, d=4, e=5, f=6, g=7, h=8)\n",
    "print(my_dict)"
   ]
  },
  {
   "cell_type": "code",
   "execution_count": 23,
   "id": "454db498",
   "metadata": {},
   "outputs": [
    {
     "name": "stdout",
     "output_type": "stream",
     "text": [
      "dict_items([('a', 1), ('b', 2), ('c', 3), ('d', 4), ('e', 5), ('f', 6), ('g', 7), ('h', 8)])\n"
     ]
    }
   ],
   "source": [
    "#14. items():\n",
    "my_dict = {'a': 1, 'b': 2, 'c': 3, 'd': 4, 'e': 5, 'f': 6, 'g': 7, 'h': 8}\n",
    "items = my_dict.items()\n",
    "print(items)"
   ]
  },
  {
   "cell_type": "code",
   "execution_count": 24,
   "id": "565f5095",
   "metadata": {},
   "outputs": [
    {
     "name": "stdout",
     "output_type": "stream",
     "text": [
      "{'a': 1, 'b': 2, 'c': 3, 'd': 4, 'e': 5, 'f': 6}\n"
     ]
    }
   ],
   "source": [
    "#15. update():\n",
    "my_dict = {'a': 1, 'b': 2, 'c': 3, 'd': 4, 'e': 5}\n",
    "my_dict.update({'f': 6})\n",
    "print(my_dict)  "
   ]
  },
  {
   "cell_type": "code",
   "execution_count": 25,
   "id": "287740d5",
   "metadata": {},
   "outputs": [
    {
     "name": "stdout",
     "output_type": "stream",
     "text": [
      "dict_values([1, 2, 3, 4, 5, 6, 7, 8])\n"
     ]
    }
   ],
   "source": [
    "#16. values():\n",
    "my_dict = {'a': 1, 'b': 2, 'c': 3, 'd': 4, 'e': 5, 'f': 6, 'g': 7, 'h': 8}\n",
    "vals = my_dict.values()\n",
    "print(vals)  "
   ]
  },
  {
   "cell_type": "code",
   "execution_count": 26,
   "id": "0c57f6c1",
   "metadata": {},
   "outputs": [
    {
     "name": "stdout",
     "output_type": "stream",
     "text": [
      "dict_keys(['a', 'b', 'c', 'd', 'e', 'f', 'g', 'h'])\n"
     ]
    }
   ],
   "source": [
    "#17. keys():\n",
    "my_dict = {'a': 1, 'b': 2, 'c': 3, 'd': 4, 'e': 5, 'f': 6, 'g': 7, 'h': 8}\n",
    "keys = my_dict.keys()\n",
    "print(keys) "
   ]
  },
  {
   "cell_type": "code",
   "execution_count": 27,
   "id": "00fdb1dc",
   "metadata": {},
   "outputs": [
    {
     "name": "stdout",
     "output_type": "stream",
     "text": [
      "1\n",
      "6\n"
     ]
    }
   ],
   "source": [
    "#18. get():\n",
    "my_dict = {'a': 1, 'b': 2, 'c': 3, 'd': 4, 'e': 5, 'f': 6, 'g': 7, 'h': 8}\n",
    "value_of_a = my_dict.get('a')\n",
    "value_of_f = my_dict.get('f')\n",
    "print(value_of_a)\n",
    "print(value_of_f)"
   ]
  },
  {
   "cell_type": "code",
   "execution_count": 29,
   "id": "312b2250",
   "metadata": {},
   "outputs": [
    {
     "name": "stdout",
     "output_type": "stream",
     "text": [
      "5 {'a': 1, 'b': 2, 'c': 3, 'd': 4, 'f': 6, 'g': 7, 'h': 8}\n"
     ]
    }
   ],
   "source": [
    "#19. pop():\n",
    "my_dict = {'a': 1, 'b': 2, 'c': 3, 'd': 4, 'e': 5, 'f': 6, 'g': 7, 'h': 8}\n",
    "popped_value = my_dict.pop('e')\n",
    "print(popped_value, my_dict)"
   ]
  },
  {
   "cell_type": "code",
   "execution_count": 30,
   "id": "ef09e191",
   "metadata": {},
   "outputs": [
    {
     "name": "stdout",
     "output_type": "stream",
     "text": [
      "True\n"
     ]
    }
   ],
   "source": [
    "#20. . in keyword for membership:\n",
    "my_dict = {'a': 1, 'b': 2, 'c': 3, 'd': 4, 'e': 5, 'f': 6, 'g': 7, 'h': 8}\n",
    "is_present = 'e' in my_dict\n",
    "print(is_present)  "
   ]
  },
  {
   "cell_type": "code",
   "execution_count": null,
   "id": "ae95514b",
   "metadata": {},
   "outputs": [],
   "source": []
  }
 ],
 "metadata": {
  "kernelspec": {
   "display_name": "Python 3 (ipykernel)",
   "language": "python",
   "name": "python3"
  },
  "language_info": {
   "codemirror_mode": {
    "name": "ipython",
    "version": 3
   },
   "file_extension": ".py",
   "mimetype": "text/x-python",
   "name": "python",
   "nbconvert_exporter": "python",
   "pygments_lexer": "ipython3",
   "version": "3.10.9"
  }
 },
 "nbformat": 4,
 "nbformat_minor": 5
}
