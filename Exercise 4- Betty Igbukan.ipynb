{
 "cells": [
  {
   "cell_type": "code",
   "execution_count": 2,
   "id": "32286243",
   "metadata": {},
   "outputs": [
    {
     "name": "stdout",
     "output_type": "stream",
     "text": [
      "+----+\n",
      "\\    /\n",
      "/    \\\n",
      "\\    /\n",
      "/    \\\n",
      "\\    /\n",
      "/    \\\n",
      "\\    /\n",
      "/    \\\n",
      "+----+\n"
     ]
    }
   ],
   "source": [
    "\"\"\"\n",
    "1. Write a program to produce the following output using for loop\n",
    "+----+\n",
    "\\ /\n",
    "/ \\\n",
    "\\ /\n",
    "/ \\\n",
    "\\ /\n",
    "/ \\\n",
    "+----+\n",
    "\"\"\"\n",
    "def print_pattern(rows):\n",
    "    for i in range(rows):\n",
    "        if i == 0 or i == rows - 1:\n",
    "            print(\"+----+\")\n",
    "        else:\n",
    "            print(\"\\\\    /\")\n",
    "            print(\"/    \\\\\")\n",
    "rows = 6 \n",
    "\n",
    "print_pattern(rows)\n"
   ]
  },
  {
   "cell_type": "code",
   "execution_count": 3,
   "id": "0e61cb58",
   "metadata": {},
   "outputs": [
    {
     "name": "stdout",
     "output_type": "stream",
     "text": [
      "**********\n",
      "**********\n",
      "**********\n",
      "**********\n",
      "**********\n"
     ]
    }
   ],
   "source": [
    "\"\"\"\n",
    "2.Write a program to produce the following output using for loop\n",
    "**********\n",
    "**********\n",
    "**********\n",
    "**********\n",
    "**********\n",
    "\"\"\"\n",
    "rows = 5\n",
    "columns = 10\n",
    "\n",
    "for i in range(rows):\n",
    "    for j in range(columns):\n",
    "        print(\"*\", end=\"\")\n",
    "    print() \n"
   ]
  },
  {
   "cell_type": "code",
   "execution_count": 1,
   "id": "fd9bc058",
   "metadata": {},
   "outputs": [
    {
     "name": "stdout",
     "output_type": "stream",
     "text": [
      "1\n",
      "2\n",
      "3\n",
      "4\n",
      "5\n",
      "6\n"
     ]
    }
   ],
   "source": [
    "\"\"\"\n",
    "3a. Complete the code for the following for loop:\n",
    "for in range(1,7):\n",
    "//your code here\n",
    "so that it prints the following numbers, one per line:\n",
    "\"\"\"\n",
    "\n",
    "for i in range(1, 7):\n",
    "    print(i)"
   ]
  },
  {
   "cell_type": "code",
   "execution_count": 8,
   "id": "977fbccd",
   "metadata": {},
   "outputs": [
    {
     "name": "stdout",
     "output_type": "stream",
     "text": [
      "2\n",
      "4\n",
      "6\n",
      "8\n",
      "10\n",
      "12\n"
     ]
    }
   ],
   "source": [
    "\"\"\"\n",
    "3b. Complete the code for the following for loop:\n",
    "so that it prints the following numbers, one per line:\n",
    "\"\"\"\n",
    "\n",
    "for num in range(2, 14, 2):\n",
    "    print(num)"
   ]
  },
  {
   "cell_type": "code",
   "execution_count": 9,
   "id": "cf414dcd",
   "metadata": {},
   "outputs": [
    {
     "name": "stdout",
     "output_type": "stream",
     "text": [
      "4\n",
      "19\n",
      "34\n",
      "49\n",
      "64\n",
      "79\n"
     ]
    }
   ],
   "source": [
    "\"\"\"\n",
    "3c. Complete the code for the following for loop:\n",
    "so that it prints the following numbers, one per line:\n",
    "\"\"\"\n",
    "for num in range(4, 80, 15):\n",
    "    print(num)"
   ]
  },
  {
   "cell_type": "code",
   "execution_count": 12,
   "id": "2449eeca",
   "metadata": {},
   "outputs": [
    {
     "name": "stdout",
     "output_type": "stream",
     "text": [
      "30\n",
      "20\n",
      "10\n",
      "0\n",
      "-10\n",
      "-20\n"
     ]
    }
   ],
   "source": [
    "\"\"\"\n",
    "3d. Complete the code for the following for loop:\n",
    "so that it prints the following numbers, one per line:\n",
    "\"\"\"\n",
    "for num in range(30, -21, -10):\n",
    "    print(num)"
   ]
  },
  {
   "cell_type": "code",
   "execution_count": 14,
   "id": "69474c21",
   "metadata": {},
   "outputs": [
    {
     "name": "stdout",
     "output_type": "stream",
     "text": [
      "-7\n",
      "-3\n",
      "1\n",
      "5\n",
      "9\n"
     ]
    }
   ],
   "source": [
    "\"\"\"\n",
    "3e. Complete the code for the following for loop:\n",
    "so that it prints the following numbers, one per line:\n",
    "\"\"\"\n",
    "for num in range(-7, 13, 4):\n",
    "    print(num)"
   ]
  },
  {
   "cell_type": "code",
   "execution_count": 20,
   "id": "57ca76f6",
   "metadata": {},
   "outputs": [
    {
     "name": "stdout",
     "output_type": "stream",
     "text": [
      "97\n",
      "94\n",
      "91\n",
      "88\n",
      "85\n",
      "82\n"
     ]
    }
   ],
   "source": [
    "\"\"\"\n",
    "3f. Complete the code for the following for loop:\n",
    "so that it prints the following numbers, one per line:\n",
    "\"\"\"\n",
    "for num in range(97, 80, -3):\n",
    "    print(num)"
   ]
  },
  {
   "cell_type": "code",
   "execution_count": 23,
   "id": "ea4c6305",
   "metadata": {},
   "outputs": [
    {
     "name": "stdout",
     "output_type": "stream",
     "text": [
      "-4\n",
      "14\n",
      "32\n",
      "50\n",
      "68\n",
      "86\n"
     ]
    }
   ],
   "source": [
    "\"\"\"\n",
    "3g. Complete the code for the following for loop:\n",
    "so that it prints the following numbers, one per line:\n",
    "\"\"\"\n",
    "for num in range(-4, 87, 18):\n",
    "    print(num)"
   ]
  },
  {
   "cell_type": "code",
   "execution_count": 24,
   "id": "e00c9ade",
   "metadata": {},
   "outputs": [
    {
     "name": "stdout",
     "output_type": "stream",
     "text": [
      "1\n",
      "22\n",
      "333\n",
      "4444\n",
      "55555\n",
      "666666\n",
      "7777777\n"
     ]
    }
   ],
   "source": [
    "\"\"\"\n",
    "4. Write a program to produce the following output using for loops. Then\n",
    "use a class constant to make it possible to change the number of lines in\n",
    "the figure.\n",
    "1\n",
    "22\n",
    "333\n",
    "4444\n",
    "55555\n",
    "666666\n",
    "7777777\n",
    "\"\"\"\n",
    "\n",
    "class NumberTriangle:\n",
    "    def __init__(self, num_lines):\n",
    "        self.num_lines = num_lines\n",
    "\n",
    "    def print_triangle(self):\n",
    "        for i in range(1, self.num_lines + 1):\n",
    "            line = str(i) * i\n",
    "            print(line)\n",
    "\n",
    "NUM_LINES = 7\n",
    "\n",
    "triangle = NumberTriangle(NUM_LINES)\n",
    "\n",
    "triangle.print_triangle()\n"
   ]
  },
  {
   "cell_type": "code",
   "execution_count": 25,
   "id": "36862de5",
   "metadata": {},
   "outputs": [
    {
     "name": "stdout",
     "output_type": "stream",
     "text": [
      "33.0\n",
      "50.0\n"
     ]
    }
   ],
   "source": [
    "\"\"\"\n",
    "5. Write a method named pay that accepts two parameters: a real number\n",
    "for a TA's salary, and an integer for the number of hours the TA worked\n",
    "this week. The method should return how much money to pay the TA.\n",
    "For example, the call\n",
    "pay(5.50, 6)\n",
    "should return\n",
    "33.0.\n",
    "The TA should receive \"overtime\" pay of 1 ½ normal salary for any hours\n",
    "above 8. For example, the call pay(4.00, 11) should return (4.00 *\n",
    "8) + (6.00 * 3) or 50.0.\n",
    "\"\"\"\n",
    "\n",
    "def pay(salary, hours_worked):\n",
    "    regular_hours = min(hours_worked, 8)\n",
    "    overtime_hours = max(hours_worked - 8, 0)\n",
    "\n",
    "    regular_pay = salary * regular_hours\n",
    "    overtime_pay = 1.5 * salary * overtime_hours\n",
    "\n",
    "    total_pay = regular_pay + overtime_pay\n",
    "    return total_pay\n",
    "\n",
    "result = pay(5.50, 6)\n",
    "print(result)  \n",
    "\n",
    "result = pay(4.00, 11)\n",
    "print(result)  \n"
   ]
  },
  {
   "cell_type": "code",
   "execution_count": 26,
   "id": "5abb9ad8",
   "metadata": {},
   "outputs": [
    {
     "name": "stdout",
     "output_type": "stream",
     "text": [
      "12.566370614359172\n"
     ]
    }
   ],
   "source": [
    "\"\"\"\n",
    "6. Consider the following method for converting milliseconds into days:\n",
    "// converts milliseconds to days\n",
    "def toDays(millis):\n",
    "return millis / 1000.0 / 60.0 / 60.0 / 24.0\n",
    "Write a similar method named area that takes as a parameter the radius of\n",
    "a circle and that returns the area of the circle. For example, the call\n",
    "area(2.0);\n",
    "should return\n",
    "12.566370614359172.\n",
    "Recall that area can be computed as π times the radius squared and that\n",
    "Python has a constant called math.pi\n",
    "\"\"\"\n",
    "\n",
    "import math\n",
    "\n",
    "def area(radius):\n",
    "    return math.pi * radius ** 2\n",
    "\n",
    "radius = 2.0\n",
    "result = area(radius)\n",
    "print(result)"
   ]
  },
  {
   "cell_type": "code",
   "execution_count": 27,
   "id": "c989707b",
   "metadata": {},
   "outputs": [
    {
     "name": "stdout",
     "output_type": "stream",
     "text": [
      "low? 1\n",
      "high? 1001\n",
      "sum = 500500\n"
     ]
    }
   ],
   "source": [
    "\"\"\"\n",
    "7. Copy and paste the following code into pythons IDLE script\n",
    "environment.\n",
    "low = 1\n",
    "high = 1001\n",
    "sum = 0\n",
    "for i in range(low,high):\n",
    "sum += i\n",
    "print(\"sum = \" , sum)\n",
    "Modify the code to use a input to prompt the user for the values of low\n",
    "and high. Below is a sample execution in which the user asks for the same\n",
    "values as in the original program (1 through 1000):\n",
    "low? 1\n",
    "high? 1001\n",
    "sum = 500500\n",
    "Below is an execution with different values for low and high:\n",
    "low? 300\n",
    "high? 5298\n",
    "sum = 13986903\n",
    "You should exactly reproduce this format.\n",
    "\"\"\"\n",
    "\n",
    "low = int(input(\"low? \"))\n",
    "high = int(input(\"high? \"))\n",
    "sum = 0\n",
    "\n",
    "for i in range(low, high):\n",
    "    sum += i\n",
    "\n",
    "print(\"sum =\", sum)"
   ]
  },
  {
   "cell_type": "code",
   "execution_count": 28,
   "id": "bbdba856",
   "metadata": {},
   "outputs": [
    {
     "name": "stdout",
     "output_type": "stream",
     "text": [
      "low? 300\n",
      "high? 5298\n",
      "sum = 13986903\n"
     ]
    }
   ],
   "source": [
    "\"\"\"\n",
    "8. Write a program using while loop that prompts the user for numbers until\n",
    "the user types 0, then outputs their sum.\n",
    "\"\"\"\n",
    "\n",
    "low = int(input(\"low? \"))\n",
    "high = int(input(\"high? \"))\n",
    "sum = 0\n",
    "\n",
    "for i in range(low, high):\n",
    "    sum += i\n",
    "\n",
    "print(\"sum =\", sum)"
   ]
  },
  {
   "cell_type": "code",
   "execution_count": 29,
   "id": "20a04eb9",
   "metadata": {
    "scrolled": true
   },
   "outputs": [
    {
     "name": "stdout",
     "output_type": "stream",
     "text": [
      "Enter a number (type 0 to stop): 2\n",
      "Enter a number (type 0 to stop): 8\n",
      "Enter a number (type 0 to stop): 9\n",
      "Enter a number (type 0 to stop): 0\n",
      "Sum of the numbers: 19\n"
     ]
    }
   ],
   "source": [
    "\"\"\"\n",
    "9. Write a program using while loop that prompts the user for numbers until\n",
    "the user types -1, then outputs their sum.\n",
    "\"\"\"\n",
    "\n",
    "\n",
    "sum = 0\n",
    "\n",
    "while True:\n",
    "    num = int(input(\"Enter a number (type 0 to stop): \"))\n",
    "    \n",
    "    if num == 0:\n",
    "        break\n",
    "\n",
    "    sum += num\n",
    "\n",
    "print(\"Sum of the numbers:\", sum)"
   ]
  },
  {
   "cell_type": "code",
   "execution_count": 31,
   "id": "a798cd60",
   "metadata": {},
   "outputs": [
    {
     "name": "stdout",
     "output_type": "stream",
     "text": [
      "Enter a number (type -1 to stop): 100\n",
      "Enter a number (type -1 to stop): 99\n",
      "Enter a number (type -1 to stop): 77\n",
      "Enter a number (type -1 to stop): -1\n",
      "Sum of the numbers: 276\n"
     ]
    }
   ],
   "source": [
    "\"\"\"\n",
    "10. Write a method named repl that accepts a String and a number of\n",
    "repetitions as parameters and returns the String concatenated that many\n",
    "times. For example, the call repl(\"hello\", 3) returns \"hellohellohello\".\n",
    "If the number of repetitions is 0 or less, an empty string is returned.\n",
    "\"\"\"\n",
    "\n",
    "sum = 0\n",
    "\n",
    "while True:\n",
    "    num = int(input(\"Enter a number (type -1 to stop): \"))\n",
    "    \n",
    "    if num == -1:\n",
    "        break\n",
    "\n",
    "    sum += num\n",
    "\n",
    "print(\"Sum of the numbers:\", sum)\n"
   ]
  },
  {
   "cell_type": "code",
   "execution_count": 32,
   "id": "9a0100dc",
   "metadata": {},
   "outputs": [
    {
     "name": "stdout",
     "output_type": "stream",
     "text": [
      "hellohellohello\n"
     ]
    }
   ],
   "source": [
    "\"\"\"\n",
    "11. Write a method called printRange that accepts two integers as arguments and\n",
    "prints the sequence of numbers between the two arguments, separated by\n",
    "spaces. Print an increasing sequence if the first argument is smaller than\n",
    "the second; otherwise, print a decreasing sequence. If the two numbers\n",
    "are the same, that number should be printed by itself. Here are some\n",
    "sample calls to printRange:\n",
    "printRange(2, 7)\n",
    "printRange(19, 11)\n",
    "printRange(5, 5)\n",
    "The output produced should be the following:\n",
    "2 3 4 5 6 7\n",
    "19 18 17 16 15 14 13 12 11\n",
    "5.\n",
    "\"\"\"\n",
    "\n",
    "def repl(s, repetitions):\n",
    "    if repetitions <= 0:\n",
    "        return \"\"\n",
    "    else:\n",
    "        return s * repetitions\n",
    "\n",
    "result = repl(\"hello\", 3)\n",
    "print(result)  "
   ]
  },
  {
   "cell_type": "code",
   "execution_count": 33,
   "id": "3698444d",
   "metadata": {},
   "outputs": [
    {
     "name": "stdout",
     "output_type": "stream",
     "text": [
      "2 3 4 5 6 7 \n",
      "19 18 17 16 15 14 13 12 11 \n",
      "5\n",
      "\n"
     ]
    }
   ],
   "source": [
    "\"\"\"\n",
    "12. Write a method named smallestLargest that asks the user to enter numbers,\n",
    "then prints the smallest and largest of all the numbers typed in by the\n",
    "user. You may assume the user enters a valid number greater than 0 for\n",
    "the number of numbers to read. Here is an example dialogue:\n",
    "How many numbers do you want to enter? 4\n",
    "Number 1: 5\n",
    "Number 2: 11\n",
    "Number 3: -2\n",
    "Number 4: 3\n",
    "Smallest = -2\n",
    "Largest = 11\n",
    "\"\"\"\n",
    "\n",
    "def printRange(start, end):\n",
    "    if start < end:\n",
    "        for i in range(start, end + 1):\n",
    "            print(i, end=\" \")\n",
    "    elif start > end:\n",
    "        for i in range(start, end - 1, -1):\n",
    "            print(i, end=\" \")\n",
    "    else:\n",
    "        print(start)\n",
    "\n",
    "printRange(2, 7)\n",
    "print()\n",
    "\n",
    "printRange(19, 11)\n",
    "print()\n",
    "\n",
    "printRange(5, 5)\n",
    "print()"
   ]
  },
  {
   "cell_type": "code",
   "execution_count": 34,
   "id": "1bcf500d",
   "metadata": {},
   "outputs": [
    {
     "name": "stdout",
     "output_type": "stream",
     "text": [
      "How many numbers do you intend to enter? 3\n",
      "Number 1: 100\n",
      "Number 2: 99\n",
      "Number 3: 88\n",
      "Smallest = 88.0\n",
      "Largest = 100.0\n"
     ]
    }
   ],
   "source": [
    "\"\"\"\n",
    "13. Write a method called printAverage that uses a sentinel loop to\n",
    "repeatedly prompt the user for numbers. Once the user types any number\n",
    "less than zero, the method should display the average of all nonnegative\n",
    "numbers typed. Display the average as a double. Here is a sample\n",
    "dialogue with the user:\n",
    "Type a number: 7\n",
    "Type a number: 4\n",
    "Type a number: 16\n",
    "Type a number: –4\n",
    "Average was 9.0\n",
    "If the first number that the user types is negative, do not print an average:\n",
    "Type a number: –2\n",
    "\"\"\"\n",
    "\n",
    "def smallestLargest():\n",
    "    count = int(input(\"How many numbers do you intend to enter? \"))\n",
    "    \n",
    "    if count <= 0:\n",
    "        print(\"Invalid input. Please enter a number greater than 0.\")\n",
    "        return\n",
    "\n",
    "    smallest = float('inf')  \n",
    "    largest = float('-inf')  \n",
    "\n",
    "    for i in range(1, count + 1):\n",
    "        number = float(input(f\"Number {i}: \"))\n",
    "        smallest = min(smallest, number)\n",
    "        largest = max(largest, number)\n",
    "\n",
    "    print(f\"Smallest = {smallest}\")\n",
    "    print(f\"Largest = {largest}\")\n",
    "smallestLargest()"
   ]
  },
  {
   "cell_type": "code",
   "execution_count": 35,
   "id": "9947874a",
   "metadata": {},
   "outputs": [
    {
     "name": "stdout",
     "output_type": "stream",
     "text": [
      "Enter a number: 100\n",
      "Enter a number: 99\n",
      "Enter a number: 44\n",
      "Enter a number: 0\n",
      "Enter a number: .1\n",
      "Enter a number: -1\n",
      "Average was 48.6\n"
     ]
    }
   ],
   "source": [
    "\"\"\"\n",
    "14. Write a method named numUnique that takes three integers as parameters\n",
    "and returns the number of unique integers among the three. For example,\n",
    "the call numUnique(18, 3, 4) should return 3 because the parameters\n",
    "have three different values. By contrast, the call numUnique(6, 7, 6)\n",
    "should return 2 because there are only two unique numbers among the\n",
    "three parameters: 6 and 7.\n",
    "\"\"\"\n",
    "\n",
    "def printAverage():\n",
    "    total = 0\n",
    "    count = 0\n",
    "\n",
    "    while True:\n",
    "        num = float(input(\"Enter a number: \"))\n",
    "        \n",
    "        if num < 0:\n",
    "            break  \n",
    "        \n",
    "        total += num\n",
    "        count += 1\n",
    "\n",
    "    if count > 0:\n",
    "        average = total / count\n",
    "        print(f\"Average was {average:.1f}\")\n",
    "    else:\n",
    "        print(\"No nonnegative numbers entered.\")\n",
    "\n",
    "printAverage()"
   ]
  },
  {
   "cell_type": "code",
   "execution_count": 36,
   "id": "c8aa5240",
   "metadata": {},
   "outputs": [
    {
     "name": "stdout",
     "output_type": "stream",
     "text": [
      "3\n",
      "2\n"
     ]
    }
   ],
   "source": [
    "\"\"\"\n",
    "15. A Random object generates pseudo-random numbers. Find out how to\n",
    "use the Random class and write a program that simulates rolling of two 6-\n",
    "sided dice until their combined result comes up as 7. One possible output\n",
    "can be seen as below:\n",
    "2 + 4 = 6\n",
    "3 + 5 = 8\n",
    "5 + 6 = 11\n",
    "1 + 1 = 2\n",
    "4 + 3 = 7\n",
    "You won after 5 tries!\n",
    "\"\"\"\n",
    "\n",
    "def numUnique(a, b, c):\n",
    "    unique_set = set([a, b, c])\n",
    "    return len(unique_set)\n",
    "\n",
    "result = numUnique(18, 3, 4)\n",
    "print(result) \n",
    "\n",
    "result = numUnique(6, 7, 6)\n",
    "print(result) \n"
   ]
  },
  {
   "cell_type": "code",
   "execution_count": 37,
   "id": "363d3ded",
   "metadata": {},
   "outputs": [
    {
     "name": "stdout",
     "output_type": "stream",
     "text": [
      "2 + 2 = 4\n",
      "6 + 1 = 7\n",
      "You won after 2 tries!\n"
     ]
    }
   ],
   "source": [
    "import random\n",
    "\n",
    "def roll_dice():\n",
    "    return random.randint(1, 6)\n",
    "\n",
    "def simulate_dice_rolls():\n",
    "    tries = 0\n",
    "    while True:\n",
    "        dice1 = roll_dice()\n",
    "        dice2 = roll_dice()\n",
    "        total = dice1 + dice2\n",
    "\n",
    "        print(f\"{dice1} + {dice2} = {total}\")\n",
    "\n",
    "        tries += 1\n",
    "\n",
    "        if total == 7:\n",
    "            print(f\"You won after {tries} tries!\")\n",
    "            break\n",
    "\n",
    "simulate_dice_rolls()"
   ]
  }
 ],
 "metadata": {
  "kernelspec": {
   "display_name": "Python 3 (ipykernel)",
   "language": "python",
   "name": "python3"
  },
  "language_info": {
   "codemirror_mode": {
    "name": "ipython",
    "version": 3
   },
   "file_extension": ".py",
   "mimetype": "text/x-python",
   "name": "python",
   "nbconvert_exporter": "python",
   "pygments_lexer": "ipython3",
   "version": "3.10.9"
  }
 },
 "nbformat": 4,
 "nbformat_minor": 5
}
