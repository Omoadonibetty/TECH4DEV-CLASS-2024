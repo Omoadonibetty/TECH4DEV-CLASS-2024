{
 "cells": [
  {
   "cell_type": "code",
   "execution_count": 2,
   "id": "684c0d52",
   "metadata": {},
   "outputs": [
    {
     "name": "stdout",
     "output_type": "stream",
     "text": [
      "The maximum value in the list is: 23\n"
     ]
    }
   ],
   "source": [
    "\"\"\"\n",
    "1. Write a program that finds the maximum value of the given list, assuming that the list\n",
    "contains at least one element.\n",
    "Try your program with the following array\n",
    "2 4 7 4 23 5 1 4 8 9\n",
    "\"\"\"\"\n",
    "\n",
    "def find_maximum_value(lst):\n",
    "    # Assuming the list contains at least one element\n",
    "    max_value = lst[0]\n",
    "\n",
    "    for element in lst:\n",
    "        if element > max_value:\n",
    "            max_value = element\n",
    "\n",
    "    return max_value\n",
    "\n",
    "input_list = [2, 4, 7, 4, 23, 5, 1, 4, 8, 9]\n",
    "result = find_maximum_value(input_list)\n",
    "\n",
    "print(\"The maximum value in the list is:\", result)"
   ]
  },
  {
   "cell_type": "code",
   "execution_count": 3,
   "id": "bbbe5578",
   "metadata": {},
   "outputs": [
    {
     "name": "stdout",
     "output_type": "stream",
     "text": [
      "The average value of the list is: 24.6\n"
     ]
    }
   ],
   "source": [
    "\"\"\"\n",
    "2. Write a program that calculates the average value of the given list.\n",
    "Try your program with the following list\n",
    "4 7 1 5 11 53 12 46 84 23\n",
    "\"\"\"\"\n",
    "def calculate_average(lst):\n",
    "    if not lst:\n",
    "        # Handle empty list case\n",
    "         return 0\n",
    "\n",
    "    total_sum = sum(lst)\n",
    "    average = total_sum / len(lst)\n",
    "\n",
    "    return average\n",
    "\n",
    "input_list = [4, 7, 1, 5, 11, 53, 12, 46, 84, 23]\n",
    "result = calculate_average(input_list)\n",
    "\n",
    "print(\"The average value of the list is:\", result)\n"
   ]
  },
  {
   "cell_type": "code",
   "execution_count": 4,
   "id": "d300eea9",
   "metadata": {},
   "outputs": [
    {
     "name": "stdout",
     "output_type": "stream",
     "text": [
      "Original list: [2, 6, 7, 45, 23, 53, 14, 45, 89, 5]\n",
      "List in reverse order: 5 89 45 14 53 23 45 7 6 2 "
     ]
    }
   ],
   "source": [
    "\"\"\"\n",
    "3. Write a program that prints the given list of integers in reverse order.\n",
    "Try your program with the following list\n",
    "2 6 7 45 23 53 14 45 89 5\n",
    "\"\"\"\n",
    "def print_reverse(lst):\n",
    "    reversed_list = list(reversed(lst))\n",
    "    for element in reversed_list:\n",
    "        print(element, end=' ')\n",
    "\n",
    "input_list = [2, 6, 7, 45, 23, 53, 14, 45, 89, 5]\n",
    "print(\"Original list:\", input_list)\n",
    "print(\"List in reverse order:\", end=' ')\n",
    "print_reverse(input_list)"
   ]
  },
  {
   "cell_type": "code",
   "execution_count": 5,
   "id": "369e5156",
   "metadata": {},
   "outputs": [
    {
     "name": "stdout",
     "output_type": "stream",
     "text": [
      "True\n"
     ]
    }
   ],
   "source": [
    "\"\"\"\n",
    "4. Write a program that accepts two lists of integers and prints true if each element in the first\n",
    "list is less than the element at the same index in the second list. Your program should print\n",
    "false if the lists are not the same length.\n",
    "\"\"\"\n",
    "def compare_lists(list1, list2):\n",
    "    if len(list1) != len(list2):\n",
    "        print(\"False (lists are not the same length)\")\n",
    "        return\n",
    "\n",
    "    for i in range(len(list1)):\n",
    "        if list1[i] >= list2[i]:\n",
    "            print(\"False\")\n",
    "            return\n",
    "\n",
    "    print(\"True\")\n",
    "\n",
    "list1 = [2, 6, 7, 45, 23, 53, 14, 45, 89, 5]\n",
    "list2 = [3, 8, 10, 50, 30, 60, 15, 50, 90, 10]\n",
    "\n",
    "compare_lists(list1, list2)"
   ]
  },
  {
   "cell_type": "code",
   "execution_count": 6,
   "id": "59d57e73",
   "metadata": {},
   "outputs": [
    {
     "name": "stdout",
     "output_type": "stream",
     "text": [
      "Original list: [2, 6, 7, 45, 23, 53, 14, 45, 89, 5]\n",
      "List after swapping elements at indexes 2 and 7: [2, 6, 45, 45, 23, 53, 14, 7, 89, 5]\n"
     ]
    }
   ],
   "source": [
    "\"\"\"\n",
    "5. Write a program that accepts a list of integers and two indexes and swaps the elements at\n",
    "those indexes\n",
    "\"\"\"\n",
    "def swap_elements(lst, index1, index2):\n",
    "    if 0 <= index1 < len(lst) and 0 <= index2 < len(lst):\n",
    "        # Swap the elements at index1 and index2\n",
    "        lst[index1], lst[index2] = lst[index2], lst[index1]\n",
    "        return True\n",
    "    else:\n",
    "        print(\"Invalid indexes. Please provide valid indexes within the range of the list.\")\n",
    "        return False\n",
    "\n",
    "input_list = [2, 6, 7, 45, 23, 53, 14, 45, 89, 5]\n",
    "print(\"Original list:\", input_list)\n",
    "\n",
    "index_to_swap1 = 2\n",
    "index_to_swap2 = 7\n",
    "\n",
    "if swap_elements(input_list, index_to_swap1, index_to_swap2):\n",
    "    print(f\"List after swapping elements at indexes {index_to_swap1} and {index_to_swap2}:\", input_list)\n"
   ]
  },
  {
   "cell_type": "code",
   "execution_count": 7,
   "id": "a3b8fa93",
   "metadata": {},
   "outputs": [
    {
     "name": "stdout",
     "output_type": "stream",
     "text": [
      "Resulting list: [2, 6, 7, 45, 23, 53, 14, 45, 89, 5]\n"
     ]
    }
   ],
   "source": [
    "\"\"\"\n",
    "6. Write a program that accepts two lists of integers and prints a new list containing all\n",
    "elements of the first list followed by all elements of the second.\n",
    "\"\"\"\n",
    "\n",
    "def concatenate_lists(list1, list2):\n",
    "    new_list = list1 + list2\n",
    "    return new_list\n",
    "\n",
    "list1 = [2, 6, 7, 45, 23]\n",
    "list2 = [53, 14, 45, 89, 5]\n",
    "\n",
    "result_list = concatenate_lists(list1, list2)\n",
    "print(\"Resulting list:\", result_list)\n"
   ]
  },
  {
   "cell_type": "code",
   "execution_count": 8,
   "id": "8c0f200c",
   "metadata": {},
   "outputs": [
    {
     "name": "stdout",
     "output_type": "stream",
     "text": [
      "The last index of 85 in the list is: 5\n"
     ]
    }
   ],
   "source": [
    "\"\"\"\n",
    "7. Write a program that accepts a list of integers and an integer value as its parameters and\n",
    "prints the last index at which the value occurs in the list. The program should print –1 if the\n",
    "value is not found. For example, in the list [74, 85, 102, 99, 101, 85, 56], the last index of the\n",
    "value 85 is 5.\n",
    "\"\"\"\n",
    "def last_index_of_value(lst, value):\n",
    "    if value in lst:\n",
    "        # If the value is found, find its last index\n",
    "        last_index = len(lst) - 1 - lst[::-1].index(value)\n",
    "        return last_index\n",
    "    else:\n",
    "        return -1\n",
    "\n",
    "input_list = [74, 85, 102, 99, 101, 85, 56]\n",
    "search_value = 85\n",
    "\n",
    "result = last_index_of_value(input_list, search_value)\n",
    "\n",
    "if result != -1:\n",
    "    print(f\"The last index of {search_value} in the list is:\", result)\n",
    "else:\n",
    "    print(f\"{search_value} is not found in the list.\")\n"
   ]
  },
  {
   "cell_type": "code",
   "execution_count": 9,
   "id": "3a96bfef",
   "metadata": {},
   "outputs": [
    {
     "name": "stdout",
     "output_type": "stream",
     "text": [
      "The range of values in the list is: 35\n"
     ]
    }
   ],
   "source": [
    "\"\"\"\n",
    "8. Write a program that prints the range of values in a list of integers. The range is defined as 1\n",
    "more than the difference between the maximum and minimum values in the list. For\n",
    "example, if a list contains the values [36, 12, 25, 19, 46, 31, 22], the program should return\n",
    "35. You may assume that the list has at least one element.\n",
    "\"\"\"\n",
    "def calculate_range(lst):\n",
    "    min_value = min(lst)\n",
    "    max_value = max(lst)\n",
    "    value_range = max_value - min_value + 1\n",
    "    return value_range\n",
    "\n",
    "input_list = [36, 12, 25, 19, 46, 31, 22]\n",
    "result = calculate_range(input_list)\n",
    "\n",
    "print(\"The range of values in the list is:\", result)"
   ]
  },
  {
   "cell_type": "code",
   "execution_count": 10,
   "id": "df0e0705",
   "metadata": {},
   "outputs": [
    {
     "name": "stdout",
     "output_type": "stream",
     "text": [
      "The count of elements between 4 and 17 is: 4\n"
     ]
    }
   ],
   "source": [
    " \"\"\"\n",
    " 9. Write a program that accepts a list of integers, a minimum value, and a maximum value and\n",
    "prints the count of how many elements from the list fall between the minimum and\n",
    "maximum (inclusive). For example, in the list [14, 1, 22, 17, 36, 7, -43, 5], for minimum value\n",
    "4 and maximum value 17, there are four elements whose values fall between 4 and 17\n",
    " \"\"\"\n",
    "    def count_elements_between(lst, min_value, max_value):\n",
    "    count = 0\n",
    "\n",
    "    for element in lst:\n",
    "        if min_value <= element <= max_value:\n",
    "            count += 1\n",
    "\n",
    "    return count\n",
    "\n",
    "input_list = [14, 1, 22, 17, 36, 7, -43, 5]\n",
    "min_value = 4\n",
    "max_value = 17\n",
    "\n",
    "result = count_elements_between(input_list, min_value, max_value)\n",
    "\n",
    "print(f\"The count of elements between {min_value} and {max_value} is:\", result)"
   ]
  },
  {
   "cell_type": "code",
   "execution_count": 11,
   "id": "5549e3de",
   "metadata": {},
   "outputs": [
    {
     "name": "stdout",
     "output_type": "stream",
     "text": [
      "Is list1 sorted? False\n",
      "Is list2 sorted? True\n"
     ]
    }
   ],
   "source": [
    "\"\"\"\n",
    "10. Write a program that accepts a list of real numbers and prints true if the list is in sorted\n",
    "(nondecreasing) order and false otherwise. For example, if lists named list1 and list2 store\n",
    "[16.1, 12.3, 22.2, 14.4] and [1.5, 4.3, 7.0, 19.5, 25.1, 46.2] respectively, the program should\n",
    "print false for list1 and true for list2 respectively. Assume the list has at least one element. A\n",
    "one-element list is sorted.\n",
    "\"\"\"\n",
    "def is_sorted(lst):\n",
    "    return all(lst[i] <= lst[i + 1] for i in range(len(lst) - 1))\n",
    "\n",
    "list1 = [16.1, 12.3, 22.2, 14.4]\n",
    "list2 = [1.5, 4.3, 7.0, 19.5, 25.1, 46.2]\n",
    "\n",
    "result1 = is_sorted(list1)\n",
    "result2 = is_sorted(list2)\n",
    "\n",
    "print(\"Is list1 sorted?\", result1)\n",
    "print(\"Is list2 sorted?\", result2)\n",
    "\n"
   ]
  },
  {
   "cell_type": "code",
   "execution_count": null,
   "id": "ee232316",
   "metadata": {},
   "outputs": [],
   "source": []
  }
 ],
 "metadata": {
  "kernelspec": {
   "display_name": "Python 3 (ipykernel)",
   "language": "python",
   "name": "python3"
  },
  "language_info": {
   "codemirror_mode": {
    "name": "ipython",
    "version": 3
   },
   "file_extension": ".py",
   "mimetype": "text/x-python",
   "name": "python",
   "nbconvert_exporter": "python",
   "pygments_lexer": "ipython3",
   "version": "3.10.9"
  }
 },
 "nbformat": 4,
 "nbformat_minor": 5
}
